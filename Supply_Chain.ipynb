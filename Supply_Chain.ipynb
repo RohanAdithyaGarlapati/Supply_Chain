{
  "nbformat": 4,
  "nbformat_minor": 0,
  "metadata": {
    "colab": {
      "provenance": []
    },
    "kernelspec": {
      "name": "python3",
      "display_name": "Python 3"
    },
    "language_info": {
      "name": "python"
    }
  },
  "cells": [
    {
      "cell_type": "code",
      "source": [
        "pip install pulp"
      ],
      "metadata": {
        "colab": {
          "base_uri": "https://localhost:8080/"
        },
        "id": "vT9Hs4RoAG2s",
        "outputId": "02b2111c-3006-4f49-eb70-59f8a38f6dbf"
      },
      "execution_count": 4,
      "outputs": [
        {
          "output_type": "stream",
          "name": "stdout",
          "text": [
            "Collecting pulp\n",
            "  Downloading pulp-3.1.1-py3-none-any.whl.metadata (1.3 kB)\n",
            "Downloading pulp-3.1.1-py3-none-any.whl (16.4 MB)\n",
            "\u001b[2K   \u001b[90m━━━━━━━━━━━━━━━━━━━━━━━━━━━━━━━━━━━━━━━━\u001b[0m \u001b[32m16.4/16.4 MB\u001b[0m \u001b[31m48.2 MB/s\u001b[0m eta \u001b[36m0:00:00\u001b[0m\n",
            "\u001b[?25hInstalling collected packages: pulp\n",
            "Successfully installed pulp-3.1.1\n"
          ]
        }
      ]
    },
    {
      "cell_type": "code",
      "execution_count": 8,
      "metadata": {
        "colab": {
          "base_uri": "https://localhost:8080/"
        },
        "id": "ViNY5ms_yJif",
        "outputId": "7a6844a1-a0c9-495e-dfcd-72bfb736f972"
      },
      "outputs": [
        {
          "output_type": "stream",
          "name": "stdout",
          "text": [
            "\n",
            "Transportation Allocation Matrix:\n",
            "      0     1     2     3\n",
            "0   0.0  20.0   0.0   0.0\n",
            "1   0.0   0.0  10.0  20.0\n",
            "2  10.0  10.0   5.0   0.0\n"
          ]
        },
        {
          "output_type": "execute_result",
          "data": {
            "text/plain": [
              "{'Forecasted Values': [100, 100.0, 105.0, 112.5, 121.25, 123.125],\n",
              " 'Transportation Status': 'Optimal',\n",
              " 'Total Transportation Cost': 280.0}"
            ]
          },
          "metadata": {},
          "execution_count": 8
        }
      ],
      "source": [
        "# Re-import required packages after kernel reset\n",
        "import numpy as np\n",
        "import pandas as pd\n",
        "from pulp import LpProblem, LpMinimize, LpVariable, lpSum, LpStatus, value\n",
        "\n",
        "# -------------------------------\n",
        "# Forecasting Model: Simple Exponential Smoothing\n",
        "# -------------------------------\n",
        "class ExponentialSmoothing:\n",
        "    def __init__(self, alpha):\n",
        "        \"\"\"\n",
        "        Initialize the smoothing factor.\n",
        "        alpha: Smoothing constant between 0 and 1\n",
        "        \"\"\"\n",
        "        self.alpha = alpha\n",
        "        self.forecast_values = []  # Store computed forecast values\n",
        "\n",
        "    def forecast(self, data):\n",
        "        \"\"\"\n",
        "        Perform forecasting using the SES formula:\n",
        "        Ft = α * Y(t−1) + (1 − α) * F(t−1)\n",
        "        data: List of historical values (e.g., past demand)\n",
        "        returns: List of forecasted values\n",
        "        \"\"\"\n",
        "        forecast = [data[0]]  # Start with the first actual data point as the initial forecast\n",
        "        for t in range(1, len(data)):\n",
        "            # Apply SES formula using previous forecast and actual value\n",
        "            next_val = self.alpha * data[t - 1] + (1 - self.alpha) * forecast[-1]\n",
        "            forecast.append(next_val)\n",
        "        self.forecast_values = forecast  # Save the forecast values\n",
        "        return forecast\n",
        "\n",
        "# -------------------------------\n",
        "# Optimization Model: Transportation Problem\n",
        "# -------------------------------\n",
        "class TransportationModel:\n",
        "    def __init__(self, supply, demand, cost_matrix):\n",
        "        \"\"\"\n",
        "        Initializes the transportation problem with input data.\n",
        "        supply: List of available quantities at each source\n",
        "        demand: List of required quantities at each destination\n",
        "        cost_matrix: 2D list of per-unit transportation costs from each source to each destination\n",
        "        \"\"\"\n",
        "        self.supply = supply\n",
        "        self.demand = demand\n",
        "        self.cost = cost_matrix\n",
        "        self.num_sources = len(supply)\n",
        "        self.num_destinations = len(demand)\n",
        "\n",
        "    def solve(self):\n",
        "        \"\"\"\n",
        "        Solves the transportation problem to minimize total cost while meeting supply and demand constraints.\n",
        "        returns: Dictionary containing status, total cost, and allocation matrix\n",
        "        \"\"\"\n",
        "        # Create the LP problem with the objective to minimize cost\n",
        "        model = LpProblem(\"Transportation_Problem\", LpMinimize)\n",
        "\n",
        "        # Define decision variables x[i][j]: amount shipped from source i to destination j\n",
        "        x = [[LpVariable(f\"x_{i}_{j}\", lowBound=0)\n",
        "              for j in range(self.num_destinations)]\n",
        "              for i in range(self.num_sources)]\n",
        "\n",
        "        # Objective function: Minimize total shipping cost\n",
        "        model += lpSum(self.cost[i][j] * x[i][j]\n",
        "                       for i in range(self.num_sources)\n",
        "                       for j in range(self.num_destinations))\n",
        "\n",
        "        # Constraint: Total shipments from each source should not exceed its supply\n",
        "        for i in range(self.num_sources):\n",
        "            model += lpSum(x[i][j] for j in range(self.num_destinations)) <= self.supply[i]\n",
        "\n",
        "        # Constraint: Total received at each destination must meet its demand\n",
        "        for j in range(self.num_destinations):\n",
        "            model += lpSum(x[i][j] for i in range(self.num_sources)) >= self.demand[j]\n",
        "\n",
        "        # Solve the LP problem\n",
        "        model.solve()\n",
        "\n",
        "        # Prepare results to return\n",
        "        result = {\n",
        "            \"Status\": LpStatus[model.status],  # Optimal, Infeasible, etc.\n",
        "            \"Total Cost\": value(model.objective),  # Total minimized cost\n",
        "            \"Allocations\": [[x[i][j].varValue for j in range(self.num_destinations)]\n",
        "                            for i in range(self.num_sources)]  # Allocation matrix\n",
        "        }\n",
        "        return result\n",
        "\n",
        "# -------------------------------\n",
        "# Sample Execution of the Module\n",
        "# -------------------------------\n",
        "\n",
        "# Historical demand data for forecasting\n",
        "time_series_data = [100, 110, 120, 130, 125, 140]\n",
        "\n",
        "# Initialize forecasting model with smoothing factor alpha = 0.5\n",
        "forecast_model = ExponentialSmoothing(alpha=0.5)\n",
        "forecasted_values = forecast_model.forecast(time_series_data)  # Generate forecasts\n",
        "\n",
        "# Supply at each source\n",
        "supply = [20, 30, 25]\n",
        "\n",
        "# Demand at each destination\n",
        "demand = [10, 30, 15, 20]\n",
        "\n",
        "# Cost matrix: cost[i][j] = cost from source i to destination j\n",
        "cost_matrix = [\n",
        "    [8, 6, 10, 9],\n",
        "    [9, 7, 4, 2],\n",
        "    [3, 4, 2, 5]\n",
        "]\n",
        "\n",
        "# Initialize transportation model\n",
        "transport_model = TransportationModel(supply, demand, cost_matrix)\n",
        "optimization_result = transport_model.solve()  # Solve transportation problem\n",
        "\n",
        "# Display transportation allocations as a readable DataFrame\n",
        "allocation_df = pd.DataFrame(optimization_result[\"Allocations\"])\n",
        "print(\"\\nTransportation Allocation Matrix:\")\n",
        "print(allocation_df)\n",
        "\n",
        "\n",
        "# Return key results: forecasts, status, and total cost\n",
        "{\n",
        "    \"Forecasted Values\": forecasted_values,\n",
        "    \"Transportation Status\": optimization_result[\"Status\"],\n",
        "    \"Total Transportation Cost\": optimization_result[\"Total Cost\"]\n",
        "}\n"
      ]
    }
  ]
}